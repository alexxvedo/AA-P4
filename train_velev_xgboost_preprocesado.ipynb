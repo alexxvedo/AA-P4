{
 "cells": [
  {
   "cell_type": "code",
   "execution_count": 1,
   "metadata": {},
   "outputs": [
    {
     "name": "stderr",
     "output_type": "stream",
     "text": [
      "/mnt/netapp2/Store_uni/home/usc/ci/avs/personal/aprendizaje/p4/venvP4/lib/python3.7/site-packages/tqdm/auto.py:21: TqdmWarning: IProgress not found. Please update jupyter and ipywidgets. See https://ipywidgets.readthedocs.io/en/stable/user_install.html\n",
      "  from .autonotebook import tqdm as notebook_tqdm\n"
     ]
    }
   ],
   "source": [
    "\n",
    "\n",
    "import os\n",
    "import numpy as np\n",
    "import pandas as pd\n",
    "import joblib\n",
    "import optuna\n",
    "import xgboost as xgb\n",
    "from sklearn.model_selection import train_test_split\n",
    "from sklearn.preprocessing import LabelEncoder\n",
    "from sklearn.metrics import mean_squared_error\n"
   ]
  },
  {
   "cell_type": "code",
   "execution_count": 2,
   "metadata": {},
   "outputs": [
    {
     "name": "stdout",
     "output_type": "stream",
     "text": [
      "Codificadores guardados en label_encoders.pkl\n"
     ]
    }
   ],
   "source": [
    "\n",
    "# Configuración\n",
    "DATA_PATH = 'train_features.csv'\n",
    "MODEL_DIR = 'models'\n",
    "MODEL_FILE = 'xgb_large_optuna.json'\n",
    "ENCODERS_FILE = 'label_encoders.pkl'\n",
    "TEST_SIZE = 0.1\n",
    "RANDOM_STATE = 42\n",
    "EVAL_METRIC = 'rmse'\n",
    "CV_FOLDS = 5\n",
    "MAX_ROUNDS = 1000\n",
    "EARLY_STOPPING_ROUNDS = 100\n",
    "\n",
    "os.makedirs(MODEL_DIR, exist_ok=True)\n",
    "\n",
    "# 1. Carga de datos\n",
    "df = pd.read_csv(DATA_PATH)\n",
    "\n",
    "# 2. Separar target y features\n",
    "y = df['prezo_euros']\n",
    "X = df.drop(columns=['prezo_euros'])\n",
    "\n",
    "# 3. Imputación y codificación\n",
    "# 3.1 Imputar numéricos con mediana\n",
    "dtypes = X.dtypes\n",
    "num_cols = dtypes[dtypes.isin([np.float64, np.int64])].index.tolist()\n",
    "for col in num_cols:\n",
    "    X[col].fillna(X[col].median(), inplace=True)\n",
    "# 3.2 Codificar categóricas con LabelEncoder\n",
    "cat_cols = dtypes[dtypes == object].index.tolist()\n",
    "label_encoders = {}\n",
    "for col in cat_cols:\n",
    "    le = LabelEncoder()\n",
    "    X[col] = X[col].fillna('Missing').astype(str)\n",
    "    X[col] = le.fit_transform(X[col])\n",
    "    label_encoders[col] = le\n",
    "joblib.dump(label_encoders, os.path.join(MODEL_DIR, ENCODERS_FILE))\n",
    "print(f\"Codificadores guardados en {ENCODERS_FILE}\")\n"
   ]
  },
  {
   "cell_type": "code",
   "execution_count": 3,
   "metadata": {},
   "outputs": [],
   "source": [
    "\n",
    "# 4. Preparar DMatrix completo\n",
    "dtrain_full = xgb.DMatrix(X, label=y)\n",
    "\n",
    "# 5. Función objetivo para Optuna usando CV\n",
    "def objective(trial):\n",
    "    # Hiperparámetros a tunear\n",
    "    \"\"\"\n",
    "    params = {\n",
    "        'tree_method': 'gpu_hist',\n",
    "        'predictor': 'gpu_predictor',\n",
    "        'objective': 'reg:squarederror',\n",
    "        'eval_metric': EVAL_METRIC,\n",
    "        'learning_rate': trial.suggest_loguniform('learning_rate', 1e-4, 1e-1),\n",
    "        'max_depth': trial.suggest_int('max_depth', 4, 20),\n",
    "        'subsample': trial.suggest_uniform('subsample', 0.5, 1.0),\n",
    "        'colsample_bytree': trial.suggest_uniform('colsample_bytree', 0.5, 1.0),\n",
    "        'lambda': trial.suggest_loguniform('lambda', 1e-3, 100.0),\n",
    "        'alpha': trial.suggest_loguniform('alpha', 1e-3, 100.0),\n",
    "        'gamma': trial.suggest_uniform('gamma', 0.0, 10.0),\n",
    "        'min_child_weight': trial.suggest_int('min_child_weight', 1, 40)\n",
    "    }\n",
    "    \n",
    "    \"\"\"\n",
    "    \n",
    "    \"\"\"\n",
    "    params = {\n",
    "        'tree_method':'gpu_hist','predictor':'gpu_predictor',\n",
    "        'objective':'reg:squarederror','eval_metric':EVAL_METRIC,\n",
    "        'learning_rate': trial.suggest_float('learning_rate',1e-4,1e-1,log=True),\n",
    "        'max_depth': trial.suggest_int('max_depth',4,12),\n",
    "        'subsample': trial.suggest_float('subsample',0.5,1.0),\n",
    "        'colsample_bytree': trial.suggest_float('colsample_bytree',0.5,1.0),\n",
    "        'lambda': trial.suggest_float('lambda',1e-3,10.0,log=True),\n",
    "        'alpha': trial.suggest_float('alpha',1e-3,10.0,log=True),\n",
    "        'gamma': trial.suggest_float('gamma',0.0,5.0),\n",
    "        'min_child_weight': trial.suggest_int('min_child_weight',1,10)\n",
    "    }\n",
    "    \n",
    "    \"\"\"\n",
    "\n",
    "    params = {\n",
    "    'tree_method':        'gpu_hist',\n",
    "    'predictor':          'gpu_predictor',\n",
    "    'objective':          'reg:squarederror',\n",
    "    'eval_metric':        EVAL_METRIC,\n",
    "    # LR óptimo ~0.037  mantenemos el rango original\n",
    "    'learning_rate':      trial.suggest_float('learning_rate', 1e-4, 1e-1, log=True),\n",
    "    # max_depth óptimo = 5  buscamos entre 3 y 8\n",
    "    'max_depth':          trial.suggest_int('max_depth', 3, 8),\n",
    "    # subsample óptimo ~0.85  buscamos en [0.6,0.95]\n",
    "    'subsample':          trial.suggest_float('subsample', 0.6, 0.95),\n",
    "    # colsample_bytree óptimo ~0.77  buscamos en [0.6,0.9]\n",
    "    'colsample_bytree':   trial.suggest_float('colsample_bytree', 0.6, 0.9),\n",
    "    # lambda (L2) óptimo ~0.58  acotamos a [1e-3,5]\n",
    "    'lambda':             trial.suggest_float('lambda', 1e-3, 5.0, log=True),\n",
    "    # alpha (L1) óptimo ~2.43  acotamos a [1e-3,5]\n",
    "    'alpha':              trial.suggest_float('alpha', 1e-3, 5.0, log=True),\n",
    "    # gamma óptimo ~2.6  mantenemos [0,5]\n",
    "    'gamma':              trial.suggest_float('gamma', 0.0, 5.0),\n",
    "    # min_child_weight óptimo = 33  ampliamos el rango a [1,50]\n",
    "    'min_child_weight':   trial.suggest_int('min_child_weight', 1, 50),\n",
    "    }\n",
    "\n",
    "    # Cross-validation\n",
    "    cv_results = xgb.cv(\n",
    "        params,\n",
    "        dtrain_full,\n",
    "        num_boost_round=MAX_ROUNDS,\n",
    "        nfold=CV_FOLDS,\n",
    "        early_stopping_rounds=EARLY_STOPPING_ROUNDS,\n",
    "        verbose_eval=False,\n",
    "        seed=RANDOM_STATE\n",
    "    )\n",
    "    # La última rmse en validation\n",
    "    best_rmse = cv_results['test-rmse-mean'].min()\n",
    "    return best_rmse\n"
   ]
  },
  {
   "cell_type": "code",
   "execution_count": 4,
   "metadata": {},
   "outputs": [
    {
     "name": "stderr",
     "output_type": "stream",
     "text": [
      "[I 2025-05-06 10:55:11,596] A new study created in memory with name: no-name-17faf45e-187d-46d0-8e0e-b105b6af0b11\n",
      "[I 2025-05-06 10:56:09,198] Trial 0 finished with value: 88345.75058154008 and parameters: {'learning_rate': 0.0013292918943162175, 'max_depth': 8, 'subsample': 0.8561978796339917, 'colsample_bytree': 0.779597545259111, 'lambda': 0.003776663327107336, 'alpha': 0.003775887545682684, 'gamma': 0.2904180608409973, 'min_child_weight': 44}. Best is trial 0 with value: 88345.75058154008.\n",
      "[I 2025-05-06 10:56:47,450] Trial 1 finished with value: 42110.70631512703 and parameters: {'learning_rate': 0.006358358856676255, 'max_depth': 7, 'subsample': 0.6072045730035308, 'colsample_bytree': 0.8909729556485984, 'lambda': 1.1999975480350795, 'alpha': 0.00610149136730271, 'gamma': 0.9091248360355031, 'min_child_weight': 10}. Best is trial 1 with value: 42110.70631512703.\n",
      "[I 2025-05-06 10:57:47,320] Trial 2 finished with value: 132608.18490313023 and parameters: {'learning_rate': 0.0008179499475211679, 'max_depth': 6, 'subsample': 0.7511807565247405, 'colsample_bytree': 0.6873687420594126, 'lambda': 0.18332660870188128, 'alpha': 0.003280829084730048, 'gamma': 1.4607232426760908, 'min_child_weight': 19}. Best is trial 1 with value: 42110.70631512703.\n",
      "[I 2025-05-06 11:00:30,377] Trial 3 finished with value: 53637.46735784451 and parameters: {'learning_rate': 0.0023345864076016252, 'max_depth': 7, 'subsample': 0.6698858237554259, 'colsample_bytree': 0.7542703315240835, 'lambda': 0.15535445807588452, 'alpha': 0.0014853153980421612, 'gamma': 3.0377242595071916, 'min_child_weight': 9}. Best is trial 1 with value: 42110.70631512703.\n",
      "[I 2025-05-06 11:04:43,962] Trial 4 finished with value: 239760.44095531764 and parameters: {'learning_rate': 0.00015673095467235422, 'max_depth': 8, 'subsample': 0.9379712115760958, 'colsample_bytree': 0.8425192044349383, 'lambda': 0.013389279116695478, 'alpha': 0.0022976624140824994, 'gamma': 3.4211651325607844, 'min_child_weight': 23}. Best is trial 1 with value: 42110.70631512703.\n",
      "[I 2025-05-06 11:05:55,157] Trial 5 finished with value: 223790.82206796962 and parameters: {'learning_rate': 0.00023233503515390126, 'max_depth': 5, 'subsample': 0.6120359823903264, 'colsample_bytree': 0.8727961206236347, 'lambda': 0.009061902594114376, 'alpha': 0.282260467839396, 'gamma': 1.5585553804470549, 'min_child_weight': 27}. Best is trial 1 with value: 42110.70631512703.\n",
      "[I 2025-05-06 11:06:48,725] Trial 6 finished with value: 48039.77173465209 and parameters: {'learning_rate': 0.004366473592979638, 'max_depth': 4, 'subsample': 0.9393546197175955, 'colsample_bytree': 0.8325398470083344, 'lambda': 2.9866092370009407, 'alpha': 2.0414536703077757, 'gamma': 2.9894998940554256, 'min_child_weight': 47}. Best is trial 1 with value: 42110.70631512703.\n",
      "[I 2025-05-06 11:07:44,035] Trial 7 finished with value: 234566.65448469046 and parameters: {'learning_rate': 0.00018427970406864567, 'max_depth': 4, 'subsample': 0.6158295511186883, 'colsample_bytree': 0.6975990992289793, 'lambda': 0.02739716567160666, 'alpha': 0.010085836630992925, 'gamma': 4.143687545759647, 'min_child_weight': 18}. Best is trial 1 with value: 42110.70631512703.\n",
      "[I 2025-05-06 11:08:16,423] Trial 8 finished with value: 146659.4375596238 and parameters: {'learning_rate': 0.0006963114377829289, 'max_depth': 6, 'subsample': 0.6493234787411669, 'colsample_bytree': 0.8406590942262119, 'lambda': 0.0018869508789698256, 'alpha': 4.4716229470373845, 'gamma': 3.861223846483287, 'min_child_weight': 10}. Best is trial 1 with value: 42110.70631512703.\n"
     ]
    }
   ],
   "source": [
    "\n",
    "# 6. Lanzar optimización\n",
    "study = optuna.create_study(direction='minimize', sampler=optuna.samplers.TPESampler(seed=RANDOM_STATE))\n",
    "study.optimize(objective, n_trials=30)\n",
    "print(\"Mejores parámetros:\", study.best_params)\n",
    "print(f\"Mejor RMSE CV: {study.best_value:.4f}\")\n",
    "\n",
    "# 7. Entrenamiento final con mejores parámetros y early stopping en split\n",
    "# Dividir para early stopping final\n",
    "X_train, X_val, y_train, y_val = train_test_split(X, y, test_size=TEST_SIZE, random_state=RANDOM_STATE)\n",
    "dtrain = xgb.DMatrix(X_train, label=y_train)\n",
    "dval   = xgb.DMatrix(X_val,   label=y_val)\n",
    "\n",
    "final_params = study.best_params.copy()\n",
    "final_params.update({\n",
    "    'tree_method': 'gpu_hist',\n",
    "    'predictor': 'gpu_predictor',\n",
    "    'objective': 'reg:squarederror',\n",
    "    'eval_metric': EVAL_METRIC\n",
    "})\n",
    "final_model = xgb.train(\n",
    "    final_params,\n",
    "    dtrain,\n",
    "    num_boost_round=int(MAX_ROUNDS),\n",
    "    evals=[(dtrain, 'train'), (dval, 'validation')],\n",
    "    early_stopping_rounds=EARLY_STOPPING_ROUNDS,\n",
    "    verbose_eval=100\n",
    ")"
   ]
  },
  {
   "cell_type": "code",
   "execution_count": null,
   "metadata": {},
   "outputs": [
    {
     "name": "stdout",
     "output_type": "stream",
     "text": [
      "Modelo final guardado en models/xgb_large_optuna.json\n",
      "RMSE validación final: 39780.90\n"
     ]
    }
   ],
   "source": [
    "\n",
    "# 8. Guardar modelo\n",
    "model_path = os.path.join(MODEL_DIR, MODEL_FILE)\n",
    "final_model.save_model(model_path)\n",
    "print(f\"Modelo final guardado en {model_path}\")\n",
    "\n",
    "# 9. Evaluación en validación\n",
    "y_pred = final_model.predict(dval)\n",
    "val_rmse = mean_squared_error(y_val, y_pred, squared=False)\n",
    "print(f\"RMSE validación final: {val_rmse:.2f}\")\n"
   ]
  },
  {
   "cell_type": "code",
   "execution_count": null,
   "metadata": {},
   "outputs": [
    {
     "name": "stdout",
     "output_type": "stream",
     "text": [
      "Submission guardada en submission_velev.csv\n"
     ]
    }
   ],
   "source": [
    "# Guardar lista de características (orden fijo)\n",
    "FEATURES = [c for c in df.columns if c != 'prezo_euros']\n",
    "SUBMIT_FILE = 'submission_velev_features.csv'\n",
    "\n",
    "if os.path.exists('test_features.csv'):\n",
    "    # Leer test.csv usando la primera columna como índice para evitar 'Unnamed'\n",
    "    df_test = pd.read_csv('test_features.csv', index_col=0)\n",
    "    # Asegurar solo columnas entrenadas\n",
    "    X_test = df_test.reindex(columns=FEATURES).copy()\n",
    "    # Imputación y codificación iguales al entrenamiento\n",
    "    for col in num_cols:\n",
    "        X_test[col].fillna(X[col].median(), inplace=True)\n",
    "    for col, le in label_encoders.items():\n",
    "        X_test[col] = le.transform(X_test[col].fillna('Missing').astype(str))\n",
    "    # Predecir\n",
    "    dtest = xgb.DMatrix(X_test)\n",
    "    preds_test = final_model.predict(dtest)\n",
    "    submission = pd.DataFrame({'id': df_test['id'], 'prezo_euros': preds_test})\n",
    "    submission.to_csv(os.path.join(MODEL_DIR, SUBMIT_FILE), index=False)\n",
    "    print(f\"Submission guardada en {SUBMIT_FILE}\")"
   ]
  },
  {
   "cell_type": "code",
   "execution_count": null,
   "metadata": {},
   "outputs": [],
   "source": []
  },
  {
   "cell_type": "code",
   "execution_count": null,
   "metadata": {},
   "outputs": [],
   "source": []
  },
  {
   "cell_type": "code",
   "execution_count": null,
   "metadata": {},
   "outputs": [],
   "source": []
  },
  {
   "cell_type": "code",
   "execution_count": null,
   "metadata": {},
   "outputs": [],
   "source": []
  }
 ],
 "metadata": {
  "interpreter": {
   "hash": "0523ecfdfd03da9535a2cd394fa2b2a2368df119d71b1e2a5e4a2b8711053260"
  },
  "kernelspec": {
   "display_name": "Python 3.7.8 64-bit ('venvP4': venv)",
   "name": "python3"
  },
  "language_info": {
   "codemirror_mode": {
    "name": "ipython",
    "version": 3
   },
   "file_extension": ".py",
   "mimetype": "text/x-python",
   "name": "python",
   "nbconvert_exporter": "python",
   "pygments_lexer": "ipython3",
   "version": "3.7.8"
  },
  "orig_nbformat": 4
 },
 "nbformat": 4,
 "nbformat_minor": 2
}
