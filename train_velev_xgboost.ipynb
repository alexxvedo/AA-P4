{
 "cells": [
  {
   "cell_type": "code",
   "execution_count": 1,
   "metadata": {},
   "outputs": [
    {
     "name": "stderr",
     "output_type": "stream",
     "text": [
      "/mnt/netapp2/Store_uni/home/usc/ci/avs/personal/aprendizaje/p4/venvP4/lib/python3.7/site-packages/tqdm/auto.py:21: TqdmWarning: IProgress not found. Please update jupyter and ipywidgets. See https://ipywidgets.readthedocs.io/en/stable/user_install.html\n",
      "  from .autonotebook import tqdm as notebook_tqdm\n"
     ]
    }
   ],
   "source": [
    "\n",
    "\n",
    "import os\n",
    "import numpy as np\n",
    "import pandas as pd\n",
    "import joblib\n",
    "import optuna\n",
    "import xgboost as xgb\n",
    "from sklearn.model_selection import train_test_split\n",
    "from sklearn.preprocessing import LabelEncoder\n",
    "from sklearn.metrics import mean_squared_error\n"
   ]
  },
  {
   "cell_type": "code",
   "execution_count": 2,
   "metadata": {},
   "outputs": [
    {
     "name": "stdout",
     "output_type": "stream",
     "text": [
      "Codificadores guardados en label_encoders.pkl\n"
     ]
    }
   ],
   "source": [
    "\n",
    "# Configuración\n",
    "DATA_PATH = 'train.csv'\n",
    "MODEL_DIR = 'models'\n",
    "MODEL_FILE = 'xgb_large_optuna.json'\n",
    "ENCODERS_FILE = 'label_encoders.pkl'\n",
    "TEST_SIZE = 0.1\n",
    "RANDOM_STATE = 42\n",
    "EVAL_METRIC = 'rmse'\n",
    "CV_FOLDS = 5\n",
    "MAX_ROUNDS = 800\n",
    "EARLY_STOPPING_ROUNDS = 100\n",
    "\n",
    "os.makedirs(MODEL_DIR, exist_ok=True)\n",
    "\n",
    "# 1. Carga de datos\n",
    "df = pd.read_csv(DATA_PATH)\n",
    "\n",
    "# 2. Separar target y features\n",
    "y = df['prezo_euros']\n",
    "X = df.drop(columns=['prezo_euros'])\n",
    "\n",
    "# 3. Imputación y codificación\n",
    "# 3.1 Imputar numéricos con mediana\n",
    "dtypes = X.dtypes\n",
    "num_cols = dtypes[dtypes.isin([np.float64, np.int64])].index.tolist()\n",
    "for col in num_cols:\n",
    "    X[col].fillna(X[col].median(), inplace=True)\n",
    "# 3.2 Codificar categóricas con LabelEncoder\n",
    "cat_cols = dtypes[dtypes == object].index.tolist()\n",
    "label_encoders = {}\n",
    "for col in cat_cols:\n",
    "    le = LabelEncoder()\n",
    "    X[col] = X[col].fillna('Missing').astype(str)\n",
    "    X[col] = le.fit_transform(X[col])\n",
    "    label_encoders[col] = le\n",
    "joblib.dump(label_encoders, os.path.join(MODEL_DIR, ENCODERS_FILE))\n",
    "print(f\"Codificadores guardados en {ENCODERS_FILE}\")\n"
   ]
  },
  {
   "cell_type": "code",
   "execution_count": 3,
   "metadata": {},
   "outputs": [],
   "source": [
    "\n",
    "# 4. Preparar DMatrix completo\n",
    "dtrain_full = xgb.DMatrix(X, label=y)\n",
    "\n",
    "# 5. Función objetivo para Optuna usando CV\n",
    "def objective(trial):\n",
    "    # Hiperparámetros a tunear\n",
    "    \"\"\"\n",
    "    params = {\n",
    "        'tree_method': 'gpu_hist',\n",
    "        'predictor': 'gpu_predictor',\n",
    "        'objective': 'reg:squarederror',\n",
    "        'eval_metric': EVAL_METRIC,\n",
    "        'learning_rate': trial.suggest_loguniform('learning_rate', 1e-4, 1e-1),\n",
    "        'max_depth': trial.suggest_int('max_depth', 4, 20),\n",
    "        'subsample': trial.suggest_uniform('subsample', 0.5, 1.0),\n",
    "        'colsample_bytree': trial.suggest_uniform('colsample_bytree', 0.5, 1.0),\n",
    "        'lambda': trial.suggest_loguniform('lambda', 1e-3, 100.0),\n",
    "        'alpha': trial.suggest_loguniform('alpha', 1e-3, 100.0),\n",
    "        'gamma': trial.suggest_uniform('gamma', 0.0, 10.0),\n",
    "        'min_child_weight': trial.suggest_int('min_child_weight', 1, 40)\n",
    "    }\n",
    "    \n",
    "    \"\"\"\n",
    "    \n",
    "    \"\"\"\n",
    "    params = {\n",
    "        'tree_method':'gpu_hist','predictor':'gpu_predictor',\n",
    "        'objective':'reg:squarederror','eval_metric':EVAL_METRIC,\n",
    "        'learning_rate': trial.suggest_float('learning_rate',1e-4,1e-1,log=True),\n",
    "        'max_depth': trial.suggest_int('max_depth',4,12),\n",
    "        'subsample': trial.suggest_float('subsample',0.5,1.0),\n",
    "        'colsample_bytree': trial.suggest_float('colsample_bytree',0.5,1.0),\n",
    "        'lambda': trial.suggest_float('lambda',1e-3,10.0,log=True),\n",
    "        'alpha': trial.suggest_float('alpha',1e-3,10.0,log=True),\n",
    "        'gamma': trial.suggest_float('gamma',0.0,5.0),\n",
    "        'min_child_weight': trial.suggest_int('min_child_weight',1,10)\n",
    "    }\n",
    "    \n",
    "    \"\"\"\n",
    "\n",
    "    params = {\n",
    "    'tree_method':        'gpu_hist',\n",
    "    'predictor':          'gpu_predictor',\n",
    "    'objective':          'reg:squarederror',\n",
    "    'eval_metric':        EVAL_METRIC,\n",
    "    # LR óptimo ~0.037  mantenemos el rango original\n",
    "    'learning_rate':      trial.suggest_float('learning_rate', 1e-4, 1e-1, log=True),\n",
    "    # max_depth óptimo = 5  buscamos entre 3 y 8\n",
    "    'max_depth':          trial.suggest_int('max_depth', 3, 8),\n",
    "    # subsample óptimo ~0.85  buscamos en [0.6,0.95]\n",
    "    'subsample':          trial.suggest_float('subsample', 0.6, 0.95),\n",
    "    # colsample_bytree óptimo ~0.77  buscamos en [0.6,0.9]\n",
    "    'colsample_bytree':   trial.suggest_float('colsample_bytree', 0.6, 0.9),\n",
    "    # lambda (L2) óptimo ~0.58  acotamos a [1e-3,5]\n",
    "    'lambda':             trial.suggest_float('lambda', 1e-3, 5.0, log=True),\n",
    "    # alpha (L1) óptimo ~2.43  acotamos a [1e-3,5]\n",
    "    'alpha':              trial.suggest_float('alpha', 1e-3, 5.0, log=True),\n",
    "    # gamma óptimo ~2.6  mantenemos [0,5]\n",
    "    'gamma':              trial.suggest_float('gamma', 0.0, 5.0),\n",
    "    # min_child_weight óptimo = 33  ampliamos el rango a [1,50]\n",
    "    'min_child_weight':   trial.suggest_int('min_child_weight', 1, 50),\n",
    "    }\n",
    "\n",
    "    # Cross-validation\n",
    "    cv_results = xgb.cv(\n",
    "        params,\n",
    "        dtrain_full,\n",
    "        num_boost_round=MAX_ROUNDS,\n",
    "        nfold=CV_FOLDS,\n",
    "        early_stopping_rounds=EARLY_STOPPING_ROUNDS,\n",
    "        verbose_eval=False,\n",
    "        seed=RANDOM_STATE\n",
    "    )\n",
    "    # La última rmse en validation\n",
    "    best_rmse = cv_results['test-rmse-mean'].min()\n",
    "    return best_rmse\n"
   ]
  },
  {
   "cell_type": "code",
   "execution_count": 4,
   "metadata": {},
   "outputs": [
    {
     "name": "stderr",
     "output_type": "stream",
     "text": [
      "[I 2025-04-29 17:58:07,706] A new study created in memory with name: no-name-d7a16a6d-3ea2-4190-b61c-a482e91f3458\n",
      "/mnt/netapp2/Store_uni/home/usc/ci/avs/personal/aprendizaje/p4/venvP4/lib/python3.7/site-packages/ipykernel_launcher.py:12: FutureWarning: suggest_loguniform has been deprecated in v3.0.0. This feature will be removed in v6.0.0. See https://github.com/optuna/optuna/releases/tag/v3.0.0. Use suggest_float(..., log=True) instead.\n",
      "  if sys.path[0] == \"\":\n",
      "/mnt/netapp2/Store_uni/home/usc/ci/avs/personal/aprendizaje/p4/venvP4/lib/python3.7/site-packages/ipykernel_launcher.py:14: FutureWarning: suggest_uniform has been deprecated in v3.0.0. This feature will be removed in v6.0.0. See https://github.com/optuna/optuna/releases/tag/v3.0.0. Use suggest_float instead.\n",
      "  \n",
      "/mnt/netapp2/Store_uni/home/usc/ci/avs/personal/aprendizaje/p4/venvP4/lib/python3.7/site-packages/ipykernel_launcher.py:15: FutureWarning: suggest_uniform has been deprecated in v3.0.0. This feature will be removed in v6.0.0. See https://github.com/optuna/optuna/releases/tag/v3.0.0. Use suggest_float instead.\n",
      "  from ipykernel import kernelapp as app\n",
      "/mnt/netapp2/Store_uni/home/usc/ci/avs/personal/aprendizaje/p4/venvP4/lib/python3.7/site-packages/ipykernel_launcher.py:16: FutureWarning: suggest_loguniform has been deprecated in v3.0.0. This feature will be removed in v6.0.0. See https://github.com/optuna/optuna/releases/tag/v3.0.0. Use suggest_float(..., log=True) instead.\n",
      "  \n",
      "/mnt/netapp2/Store_uni/home/usc/ci/avs/personal/aprendizaje/p4/venvP4/lib/python3.7/site-packages/ipykernel_launcher.py:17: FutureWarning: suggest_loguniform has been deprecated in v3.0.0. This feature will be removed in v6.0.0. See https://github.com/optuna/optuna/releases/tag/v3.0.0. Use suggest_float(..., log=True) instead.\n",
      "  app.launch_new_instance()\n",
      "/mnt/netapp2/Store_uni/home/usc/ci/avs/personal/aprendizaje/p4/venvP4/lib/python3.7/site-packages/ipykernel_launcher.py:18: FutureWarning: suggest_uniform has been deprecated in v3.0.0. This feature will be removed in v6.0.0. See https://github.com/optuna/optuna/releases/tag/v3.0.0. Use suggest_float instead.\n",
      "[I 2025-04-29 18:00:08,121] Trial 0 finished with value: 108309.0277979178 and parameters: {'learning_rate': 0.0013292918943162175, 'max_depth': 20, 'subsample': 0.8659969709057025, 'colsample_bytree': 0.7993292420985183, 'lambda': 0.006026889128682512, 'alpha': 0.0060252157362038605, 'gamma': 0.5808361216819946, 'min_child_weight': 35}. Best is trial 0 with value: 108309.0277979178.\n",
      "[I 2025-04-29 18:02:03,316] Trial 1 finished with value: 43093.20417157803 and parameters: {'learning_rate': 0.006358358856676255, 'max_depth': 16, 'subsample': 0.5102922471479012, 'colsample_bytree': 0.9849549260809971, 'lambda': 14.528246637516036, 'alpha': 0.011526449540315618, 'gamma': 1.8182496720710062, 'min_child_weight': 8}. Best is trial 1 with value: 43093.20417157803.\n",
      "[I 2025-04-29 18:02:58,548] Trial 2 finished with value: 156176.14816451276 and parameters: {'learning_rate': 0.0008179499475211679, 'max_depth': 12, 'subsample': 0.7159725093210578, 'colsample_bytree': 0.645614570099021, 'lambda': 1.1462107403425035, 'alpha': 0.004982752357076452, 'gamma': 2.9214464853521815, 'min_child_weight': 15}. Best is trial 1 with value: 43093.20417157803.\n",
      "[I 2025-04-29 18:05:56,882] Trial 3 finished with value: 66233.15959278823 and parameters: {'learning_rate': 0.0023345864076016252, 'max_depth': 17, 'subsample': 0.5998368910791798, 'colsample_bytree': 0.7571172192068059, 'lambda': 0.9163741808778786, 'alpha': 0.0017070728830306638, 'gamma': 6.075448519014383, 'min_child_weight': 7}. Best is trial 1 with value: 43093.20417157803.\n",
      "[I 2025-04-29 18:09:54,185] Trial 4 finished with value: 247113.86822783566 and parameters: {'learning_rate': 0.00015673095467235422, 'max_depth': 20, 'subsample': 0.9828160165372797, 'colsample_bytree': 0.9041986740582306, 'lambda': 0.03334792728637585, 'alpha': 0.0030786517836196197, 'gamma': 6.842330265121569, 'min_child_weight': 18}. Best is trial 1 with value: 43093.20417157803.\n",
      "[I 2025-04-29 18:11:26,689] Trial 5 finished with value: 233311.06365651786 and parameters: {'learning_rate': 0.00023233503515390126, 'max_depth': 12, 'subsample': 0.5171942605576092, 'colsample_bytree': 0.954660201039391, 'lambda': 0.01967432802530612, 'alpha': 2.0540519425388455, 'gamma': 3.1171107608941098, 'min_child_weight': 21}. Best is trial 1 with value: 43093.20417157803.\n",
      "[I 2025-04-29 18:11:39,816] Trial 6 finished with value: 50738.88422418756 and parameters: {'learning_rate': 0.004366473592979638, 'max_depth': 7, 'subsample': 0.9847923138822793, 'colsample_bytree': 0.8875664116805573, 'lambda': 49.830438374949125, 'alpha': 29.79454462591363, 'gamma': 5.978999788110851, 'min_child_weight': 37}. Best is trial 1 with value: 43093.20417157803.\n",
      "[I 2025-04-29 18:12:01,714] Trial 7 finished with value: 243229.80053196163 and parameters: {'learning_rate': 0.00018427970406864567, 'max_depth': 7, 'subsample': 0.522613644455269, 'colsample_bytree': 0.6626651653816322, 'lambda': 0.08777815504719653, 'alpha': 0.022737628102536857, 'gamma': 8.287375091519294, 'min_child_weight': 15}. Best is trial 1 with value: 43093.20417157803.\n",
      "[I 2025-04-29 18:15:40,658] Trial 8 finished with value: 165011.203510302 and parameters: {'learning_rate': 0.0006963114377829289, 'max_depth': 13, 'subsample': 0.5704621124873813, 'colsample_bytree': 0.9010984903770198, 'lambda': 0.0023591373063477136, 'alpha': 85.98737339212276, 'gamma': 7.722447692966574, 'min_child_weight': 8}. Best is trial 1 with value: 43093.20417157803.\n",
      "[I 2025-04-29 18:15:54,997] Trial 9 finished with value: 257994.1582595196 and parameters: {'learning_rate': 0.00010388823104027947, 'max_depth': 17, 'subsample': 0.8534286719238086, 'colsample_bytree': 0.8645035840204937, 'lambda': 7.183758655813988, 'alpha': 0.002345434227726052, 'gamma': 3.5846572854427263, 'min_child_weight': 5}. Best is trial 1 with value: 43093.20417157803.\n",
      "[I 2025-04-29 18:16:00,802] Trial 10 finished with value: 41885.58674623583 and parameters: {'learning_rate': 0.046928387646701264, 'max_depth': 4, 'subsample': 0.6843643863605486, 'colsample_bytree': 0.5089809378074097, 'lambda': 81.90656212675967, 'alpha': 0.12955534110402342, 'gamma': 0.15594799658456004, 'min_child_weight': 27}. Best is trial 10 with value: 41885.58674623583.\n",
      "[I 2025-04-29 18:16:06,603] Trial 11 finished with value: 42019.80291273484 and parameters: {'learning_rate': 0.044005929565618676, 'max_depth': 4, 'subsample': 0.6543779873556572, 'colsample_bytree': 0.5085930751344794, 'lambda': 73.97991096697841, 'alpha': 0.1237144179010669, 'gamma': 0.17054226469962097, 'min_child_weight': 27}. Best is trial 10 with value: 41885.58674623583.\n",
      "[I 2025-04-29 18:16:12,416] Trial 12 finished with value: 41647.43242262836 and parameters: {'learning_rate': 0.0671784938311164, 'max_depth': 4, 'subsample': 0.6716702181856073, 'colsample_bytree': 0.5018203726540555, 'lambda': 82.73073269966906, 'alpha': 0.19264663511660407, 'gamma': 0.3454064996642333, 'min_child_weight': 28}. Best is trial 12 with value: 41647.43242262836.\n",
      "[I 2025-04-29 18:16:17,611] Trial 13 finished with value: 41367.31450439964 and parameters: {'learning_rate': 0.0933004061591982, 'max_depth': 4, 'subsample': 0.7462678058229715, 'colsample_bytree': 0.5048579886309473, 'lambda': 6.546883775036273, 'alpha': 0.6411762629310294, 'gamma': 9.993624386415512, 'min_child_weight': 29}. Best is trial 13 with value: 41367.31450439964.\n",
      "[I 2025-04-29 18:16:34,351] Trial 14 finished with value: 41215.34745784265 and parameters: {'learning_rate': 0.014656024181683441, 'max_depth': 7, 'subsample': 0.7788658736000338, 'colsample_bytree': 0.5868583137133783, 'lambda': 5.071311935740254, 'alpha': 1.6261687821603446, 'gamma': 9.908304787520615, 'min_child_weight': 30}. Best is trial 14 with value: 41215.34745784265.\n",
      "[I 2025-04-29 18:16:57,111] Trial 15 finished with value: 41155.26259186781 and parameters: {'learning_rate': 0.01535577938728987, 'max_depth': 8, 'subsample': 0.7883698225730453, 'colsample_bytree': 0.6023253052220932, 'lambda': 3.8066094082626285, 'alpha': 2.1042137543560844, 'gamma': 9.985676242775186, 'min_child_weight': 32}. Best is trial 15 with value: 41155.26259186781.\n",
      "[I 2025-04-29 18:17:20,712] Trial 16 finished with value: 41161.030583947024 and parameters: {'learning_rate': 0.016276688310280958, 'max_depth': 8, 'subsample': 0.8135604464862721, 'colsample_bytree': 0.6152858348399235, 'lambda': 1.1124993887951822, 'alpha': 5.37246474419457, 'gamma': 9.797098081867505, 'min_child_weight': 33}. Best is trial 15 with value: 41155.26259186781.\n",
      "[I 2025-04-29 18:17:48,382] Trial 17 finished with value: 41259.583880422775 and parameters: {'learning_rate': 0.019691276425245638, 'max_depth': 9, 'subsample': 0.8250566493342398, 'colsample_bytree': 0.6590912221262442, 'lambda': 0.3280248976727335, 'alpha': 10.150459520910786, 'gamma': 8.760758692625203, 'min_child_weight': 40}. Best is trial 15 with value: 41155.26259186781.\n",
      "[I 2025-04-29 18:18:18,388] Trial 18 finished with value: 41286.19646795926 and parameters: {'learning_rate': 0.019768034003139014, 'max_depth': 9, 'subsample': 0.9116492120410921, 'colsample_bytree': 0.6039364434201275, 'lambda': 1.3748568658466245, 'alpha': 6.535842652293332, 'gamma': 9.071392531725348, 'min_child_weight': 33}. Best is trial 15 with value: 41155.26259186781.\n",
      "[I 2025-04-29 18:19:05,256] Trial 19 finished with value: 41926.072073315816 and parameters: {'learning_rate': 0.006709977773607849, 'max_depth': 9, 'subsample': 0.7881018569659318, 'colsample_bytree': 0.7163728055902456, 'lambda': 0.1903093431723845, 'alpha': 5.378876204197773, 'gamma': 7.3756632327234435, 'min_child_weight': 21}. Best is trial 15 with value: 41155.26259186781.\n",
      "[I 2025-04-29 18:19:53,527] Trial 20 finished with value: 41590.83716618041 and parameters: {'learning_rate': 0.01198066926184933, 'max_depth': 10, 'subsample': 0.9123161127609903, 'colsample_bytree': 0.5746816546563291, 'lambda': 2.4018720988389153, 'alpha': 0.9661886768250558, 'gamma': 4.463220084500361, 'min_child_weight': 24}. Best is trial 15 with value: 41155.26259186781.\n",
      "[I 2025-04-29 18:20:09,177] Trial 21 finished with value: 41202.43835907831 and parameters: {'learning_rate': 0.021180797942055733, 'max_depth': 7, 'subsample': 0.783277340027817, 'colsample_bytree': 0.5697389291168405, 'lambda': 3.93939506113203, 'alpha': 2.350652379611972, 'gamma': 9.981779631736082, 'min_child_weight': 32}. Best is trial 15 with value: 41155.26259186781.\n",
      "[I 2025-04-29 18:20:19,916] Trial 22 finished with value: 41190.29888532315 and parameters: {'learning_rate': 0.029901627800627283, 'max_depth': 6, 'subsample': 0.8127729993867591, 'colsample_bytree': 0.563685221182675, 'lambda': 16.1011380802523, 'alpha': 24.272835648273244, 'gamma': 9.391842632038191, 'min_child_weight': 32}. Best is trial 15 with value: 41155.26259186781.\n",
      "[I 2025-04-29 18:20:30,440] Trial 23 finished with value: 41200.680560775014 and parameters: {'learning_rate': 0.03563291877892261, 'max_depth': 6, 'subsample': 0.8241546716637591, 'colsample_bytree': 0.7037198958030393, 'lambda': 20.53073492994593, 'alpha': 20.148756628442342, 'gamma': 8.98996179250728, 'min_child_weight': 40}. Best is trial 15 with value: 41155.26259186781.\n",
      "[I 2025-04-29 18:21:05,695] Trial 24 finished with value: 42402.490705291784 and parameters: {'learning_rate': 0.009227570116591366, 'max_depth': 10, 'subsample': 0.9127463609953168, 'colsample_bytree': 0.5521279494664959, 'lambda': 19.889976191535904, 'alpha': 51.63427592464654, 'gamma': 8.141852663186475, 'min_child_weight': 36}. Best is trial 15 with value: 41155.26259186781.\n",
      "[I 2025-04-29 18:21:19,378] Trial 25 finished with value: 53650.73540864031 and parameters: {'learning_rate': 0.003277757635019891, 'max_depth': 6, 'subsample': 0.7239264789127576, 'colsample_bytree': 0.6180785773792392, 'lambda': 0.32768428015437084, 'alpha': 11.457448668663814, 'gamma': 9.250953371314381, 'min_child_weight': 1}. Best is trial 15 with value: 41155.26259186781.\n",
      "[I 2025-04-29 18:22:03,454] Trial 26 finished with value: 42133.276460463625 and parameters: {'learning_rate': 0.030639219524383494, 'max_depth': 14, 'subsample': 0.8771888772620265, 'colsample_bytree': 0.5434080270689022, 'lambda': 0.5179631518052223, 'alpha': 4.107834719933056, 'gamma': 6.74119805810687, 'min_child_weight': 34}. Best is trial 15 with value: 41155.26259186781.\n",
      "[I 2025-04-29 18:22:46,413] Trial 27 finished with value: 41563.47420237169 and parameters: {'learning_rate': 0.009085285784370005, 'max_depth': 10, 'subsample': 0.7948379872860568, 'colsample_bytree': 0.6311956503837672, 'lambda': 2.3129879350141214, 'alpha': 0.4509523001536429, 'gamma': 9.40462496238434, 'min_child_weight': 31}. Best is trial 15 with value: 41155.26259186781.\n",
      "[I 2025-04-29 18:22:53,375] Trial 28 finished with value: 41359.10202244757 and parameters: {'learning_rate': 0.06523734001326631, 'max_depth': 6, 'subsample': 0.8288532787998741, 'colsample_bytree': 0.6868597274630571, 'lambda': 11.523929124271925, 'alpha': 21.99678776841336, 'gamma': 8.378513197942112, 'min_child_weight': 24}. Best is trial 15 with value: 41155.26259186781.\n",
      "[I 2025-04-29 18:23:25,451] Trial 29 finished with value: 95769.11195377583 and parameters: {'learning_rate': 0.001568640370641824, 'max_depth': 8, 'subsample': 0.7527364961854781, 'colsample_bytree': 0.7244278109981883, 'lambda': 0.127163524579695, 'alpha': 0.033770238707272277, 'gamma': 5.5192868836442575, 'min_child_weight': 37}. Best is trial 15 with value: 41155.26259186781.\n",
      "[I 2025-04-29 18:24:09,363] Trial 30 finished with value: 41581.02811974204 and parameters: {'learning_rate': 0.0249859799862273, 'max_depth': 11, 'subsample': 0.8674907553542512, 'colsample_bytree': 0.8112271899455036, 'lambda': 29.25097922513887, 'alpha': 43.26092932430926, 'gamma': 7.482483355181922, 'min_child_weight': 25}. Best is trial 15 with value: 41155.26259186781.\n",
      "[I 2025-04-29 18:24:19,958] Trial 31 finished with value: 41176.72376590603 and parameters: {'learning_rate': 0.03605774807428433, 'max_depth': 6, 'subsample': 0.8228508056428694, 'colsample_bytree': 0.7749858681651038, 'lambda': 34.39553363512793, 'alpha': 15.269182800049373, 'gamma': 8.92329984096451, 'min_child_weight': 40}. Best is trial 15 with value: 41155.26259186781.\n",
      "[I 2025-04-29 18:24:27,856] Trial 32 finished with value: 42766.448272215704 and parameters: {'learning_rate': 0.013804215636663501, 'max_depth': 5, 'subsample': 0.814192251392749, 'colsample_bytree': 0.7917636271730858, 'lambda': 37.93287184641555, 'alpha': 10.092289503653177, 'gamma': 9.461060980761577, 'min_child_weight': 35}. Best is trial 15 with value: 41155.26259186781.\n",
      "[I 2025-04-29 18:24:49,534] Trial 33 finished with value: 44877.808383161115 and parameters: {'learning_rate': 0.005177423592159982, 'max_depth': 8, 'subsample': 0.759359978569621, 'colsample_bytree': 0.7799539366607645, 'lambda': 10.418818010434924, 'alpha': 91.48363272394695, 'gamma': 8.534864645046817, 'min_child_weight': 38}. Best is trial 15 with value: 41155.26259186781.\n",
      "[I 2025-04-29 18:24:56,389] Trial 34 finished with value: 41171.7321042518 and parameters: {'learning_rate': 0.05272824780568646, 'max_depth': 5, 'subsample': 0.8857801410816648, 'colsample_bytree': 0.7488765668276616, 'lambda': 3.1370301896610235, 'alpha': 3.3109098000611636, 'gamma': 1.2231542722209077, 'min_child_weight': 32}. Best is trial 15 with value: 41155.26259186781.\n",
      "[I 2025-04-29 18:25:02,616] Trial 35 finished with value: 41374.04726124881 and parameters: {'learning_rate': 0.06247091257919621, 'max_depth': 5, 'subsample': 0.9422617903007072, 'colsample_bytree': 0.8391086242495778, 'lambda': 0.7903485522633021, 'alpha': 3.3129368517707345, 'gamma': 1.293608843184022, 'min_child_weight': 39}. Best is trial 15 with value: 41155.26259186781.\n",
      "[I 2025-04-29 18:25:08,271] Trial 36 finished with value: 41759.744245241076 and parameters: {'learning_rate': 0.09647232836720009, 'max_depth': 8, 'subsample': 0.8644706261702882, 'colsample_bytree': 0.751840351853241, 'lambda': 2.5353011446705613, 'alpha': 1.1459147612112306, 'gamma': 1.9872722167220722, 'min_child_weight': 35}. Best is trial 15 with value: 41155.26259186781.\n",
      "[I 2025-04-29 18:25:16,073] Trial 37 finished with value: 41164.44424051292 and parameters: {'learning_rate': 0.046903158130886746, 'max_depth': 5, 'subsample': 0.8443789438837792, 'colsample_bytree': 0.8283113342604504, 'lambda': 1.365875460227747, 'alpha': 0.31391777658451653, 'gamma': 4.576732578066347, 'min_child_weight': 34}. Best is trial 15 with value: 41155.26259186781.\n",
      "[I 2025-04-29 18:25:23,060] Trial 38 finished with value: 41318.437065510356 and parameters: {'learning_rate': 0.05162942105321666, 'max_depth': 5, 'subsample': 0.9455326969522633, 'colsample_bytree': 0.8329348725530122, 'lambda': 1.0349475004026023, 'alpha': 0.20890100438309045, 'gamma': 4.050121008778946, 'min_child_weight': 30}. Best is trial 15 with value: 41155.26259186781.\n",
      "[I 2025-04-29 18:27:44,211] Trial 39 finished with value: 41606.33848154153 and parameters: {'learning_rate': 0.008132957864269279, 'max_depth': 19, 'subsample': 0.8909607728977901, 'colsample_bytree': 0.9530904729176333, 'lambda': 0.02547354292129665, 'alpha': 0.059370276016808984, 'gamma': 2.1817923330712308, 'min_child_weight': 26}. Best is trial 15 with value: 41155.26259186781.\n",
      "[I 2025-04-29 18:29:18,599] Trial 40 finished with value: 41756.61732542662 and parameters: {'learning_rate': 0.015362519069767303, 'max_depth': 13, 'subsample': 0.9619765378727214, 'colsample_bytree': 0.676384473737146, 'lambda': 1.4547152399732217, 'alpha': 0.6283725420572395, 'gamma': 1.0617411293848456, 'min_child_weight': 17}. Best is trial 15 with value: 41155.26259186781.\n",
      "[I 2025-04-29 18:29:26,545] Trial 41 finished with value: 41136.20129196462 and parameters: {'learning_rate': 0.03722506067773932, 'max_depth': 5, 'subsample': 0.8545974822722109, 'colsample_bytree': 0.7699634055457456, 'lambda': 0.5848478183936077, 'alpha': 2.430802664206301, 'gamma': 2.6013322072250746, 'min_child_weight': 33}. Best is trial 41 with value: 41136.20129196462.\n",
      "[I 2025-04-29 18:29:35,224] Trial 42 finished with value: 204359.27501492252 and parameters: {'learning_rate': 0.0004234122581808577, 'max_depth': 5, 'subsample': 0.8575881395205522, 'colsample_bytree': 0.7372492838473839, 'lambda': 0.6245018258721086, 'alpha': 1.1660680956333629, 'gamma': 2.68611560845949, 'min_child_weight': 33}. Best is trial 41 with value: 41136.20129196462.\n",
      "[I 2025-04-29 18:29:45,565] Trial 43 finished with value: 41308.196356239074 and parameters: {'learning_rate': 0.04289303349525236, 'max_depth': 7, 'subsample': 0.8444533788646662, 'colsample_bytree': 0.8531647905919441, 'lambda': 0.0715958606015812, 'alpha': 2.5389162873741644, 'gamma': 0.9648066498352552, 'min_child_weight': 35}. Best is trial 41 with value: 41136.20129196462.\n",
      "[I 2025-04-29 18:29:53,704] Trial 44 finished with value: 41307.33852109802 and parameters: {'learning_rate': 0.025735373941059788, 'max_depth': 5, 'subsample': 0.8958145475358433, 'colsample_bytree': 0.8117864171208895, 'lambda': 3.5502093271557227, 'alpha': 0.3515218620300816, 'gamma': 5.186626411325318, 'min_child_weight': 29}. Best is trial 41 with value: 41136.20129196462.\n",
      "[I 2025-04-29 18:29:59,527] Trial 45 finished with value: 41384.42609655556 and parameters: {'learning_rate': 0.0677207942178437, 'max_depth': 4, 'subsample': 0.7159219778768405, 'colsample_bytree': 0.6447971601626007, 'lambda': 0.5330435209399275, 'alpha': 0.006225547750277588, 'gamma': 3.3424920924320767, 'min_child_weight': 31}. Best is trial 41 with value: 41136.20129196462.\n",
      "[I 2025-04-29 18:30:05,422] Trial 46 finished with value: 41677.85951061059 and parameters: {'learning_rate': 0.09032201950846161, 'max_depth': 8, 'subsample': 0.8406904865323748, 'colsample_bytree': 0.8680294491542841, 'lambda': 1.435180008683654, 'alpha': 6.344489791049075, 'gamma': 2.801010545368915, 'min_child_weight': 37}. Best is trial 41 with value: 41136.20129196462.\n",
      "[I 2025-04-29 18:31:24,425] Trial 47 finished with value: 51237.65777667032 and parameters: {'learning_rate': 0.0030947003805155146, 'max_depth': 11, 'subsample': 0.8025656019107805, 'colsample_bytree': 0.7673531511849307, 'lambda': 0.005818071647577955, 'alpha': 1.6507691117554335, 'gamma': 4.53580177334883, 'min_child_weight': 28}. Best is trial 41 with value: 41136.20129196462.\n",
      "[I 2025-04-29 18:31:41,917] Trial 48 finished with value: 41309.27291963625 and parameters: {'learning_rate': 0.017952124865755953, 'max_depth': 7, 'subsample': 0.8878768525900492, 'colsample_bytree': 0.9387751281721941, 'lambda': 0.1975009305491347, 'alpha': 0.7688251014717026, 'gamma': 1.5970733298937791, 'min_child_weight': 32}. Best is trial 41 with value: 41136.20129196462.\n",
      "[I 2025-04-29 18:32:48,916] Trial 49 finished with value: 42405.28708023248 and parameters: {'learning_rate': 0.05126860684008691, 'max_depth': 15, 'subsample': 0.7713118889803506, 'colsample_bytree': 0.599452499459954, 'lambda': 6.346046286016959, 'alpha': 3.409609344746141, 'gamma': 6.478783522398947, 'min_child_weight': 10}. Best is trial 41 with value: 41136.20129196462.\n"
     ]
    },
    {
     "name": "stdout",
     "output_type": "stream",
     "text": [
      "Mejores parámetros: {'learning_rate': 0.03722506067773932, 'max_depth': 5, 'subsample': 0.8545974822722109, 'colsample_bytree': 0.7699634055457456, 'lambda': 0.5848478183936077, 'alpha': 2.430802664206301, 'gamma': 2.6013322072250746, 'min_child_weight': 33}\n",
      "Mejor RMSE CV: 41136.2013\n",
      "[0]\ttrain-rmse:269008.98684\tvalidation-rmse:269580.02186\n",
      "[100]\ttrain-rmse:44796.97721\tvalidation-rmse:46329.34183\n",
      "[200]\ttrain-rmse:39463.58343\tvalidation-rmse:42030.13445\n",
      "[300]\ttrain-rmse:37320.86282\tvalidation-rmse:40726.12779\n",
      "[400]\ttrain-rmse:36109.12713\tvalidation-rmse:40246.47101\n",
      "[500]\ttrain-rmse:35089.88515\tvalidation-rmse:39977.39066\n",
      "[600]\ttrain-rmse:34292.49285\tvalidation-rmse:39900.42236\n",
      "[700]\ttrain-rmse:33554.11981\tvalidation-rmse:39780.49005\n",
      "[799]\ttrain-rmse:32905.56768\tvalidation-rmse:39780.90282\n"
     ]
    }
   ],
   "source": [
    "\n",
    "# 6. Lanzar optimización\n",
    "study = optuna.create_study(direction='minimize', sampler=optuna.samplers.TPESampler(seed=RANDOM_STATE))\n",
    "study.optimize(objective, n_trials=50)\n",
    "print(\"Mejores parámetros:\", study.best_params)\n",
    "print(f\"Mejor RMSE CV: {study.best_value:.4f}\")\n",
    "\n",
    "# 7. Entrenamiento final con mejores parámetros y early stopping en split\n",
    "# Dividir para early stopping final\n",
    "X_train, X_val, y_train, y_val = train_test_split(X, y, test_size=TEST_SIZE, random_state=RANDOM_STATE)\n",
    "dtrain = xgb.DMatrix(X_train, label=y_train)\n",
    "dval   = xgb.DMatrix(X_val,   label=y_val)\n",
    "\n",
    "final_params = study.best_params.copy()\n",
    "final_params.update({\n",
    "    'tree_method': 'gpu_hist',\n",
    "    'predictor': 'gpu_predictor',\n",
    "    'objective': 'reg:squarederror',\n",
    "    'eval_metric': EVAL_METRIC\n",
    "})\n",
    "final_model = xgb.train(\n",
    "    final_params,\n",
    "    dtrain,\n",
    "    num_boost_round=int(MAX_ROUNDS),\n",
    "    evals=[(dtrain, 'train'), (dval, 'validation')],\n",
    "    early_stopping_rounds=EARLY_STOPPING_ROUNDS,\n",
    "    verbose_eval=100\n",
    ")"
   ]
  },
  {
   "cell_type": "code",
   "execution_count": 5,
   "metadata": {},
   "outputs": [
    {
     "name": "stdout",
     "output_type": "stream",
     "text": [
      "Modelo final guardado en models/xgb_large_optuna.json\n",
      "RMSE validación final: 39780.90\n"
     ]
    }
   ],
   "source": [
    "\n",
    "# 8. Guardar modelo\n",
    "model_path = os.path.join(MODEL_DIR, MODEL_FILE)\n",
    "final_model.save_model(model_path)\n",
    "print(f\"Modelo final guardado en {model_path}\")\n",
    "\n",
    "# 9. Evaluación en validación\n",
    "y_pred = final_model.predict(dval)\n",
    "val_rmse = mean_squared_error(y_val, y_pred, squared=False)\n",
    "print(f\"RMSE validación final: {val_rmse:.2f}\")\n"
   ]
  },
  {
   "cell_type": "code",
   "execution_count": 6,
   "metadata": {},
   "outputs": [
    {
     "name": "stdout",
     "output_type": "stream",
     "text": [
      "Submission guardada en submission_velev.csv\n"
     ]
    }
   ],
   "source": [
    "# Guardar lista de características (orden fijo)\n",
    "FEATURES = [c for c in df.columns if c != 'prezo_euros']\n",
    "SUBMIT_FILE = 'submission_velev.csv'\n",
    "\n",
    "if os.path.exists('test.csv'):\n",
    "    # Leer test.csv usando la primera columna como índice para evitar 'Unnamed'\n",
    "    df_test = pd.read_csv('test.csv', index_col=0)\n",
    "    # Asegurar solo columnas entrenadas\n",
    "    X_test = df_test.reindex(columns=FEATURES).copy()\n",
    "    # Imputación y codificación iguales al entrenamiento\n",
    "    for col in num_cols:\n",
    "        X_test[col].fillna(X[col].median(), inplace=True)\n",
    "    for col, le in label_encoders.items():\n",
    "        X_test[col] = le.transform(X_test[col].fillna('Missing').astype(str))\n",
    "    # Predecir\n",
    "    dtest = xgb.DMatrix(X_test)\n",
    "    preds_test = final_model.predict(dtest)\n",
    "    submission = pd.DataFrame({'id': df_test['id'], 'prezo_euros': preds_test})\n",
    "    submission.to_csv(os.path.join(MODEL_DIR, SUBMIT_FILE), index=False)\n",
    "    print(f\"Submission guardada en {SUBMIT_FILE}\")"
   ]
  },
  {
   "cell_type": "code",
   "execution_count": null,
   "metadata": {},
   "outputs": [],
   "source": []
  },
  {
   "cell_type": "code",
   "execution_count": null,
   "metadata": {},
   "outputs": [],
   "source": []
  },
  {
   "cell_type": "code",
   "execution_count": null,
   "metadata": {},
   "outputs": [],
   "source": []
  },
  {
   "cell_type": "code",
   "execution_count": null,
   "metadata": {},
   "outputs": [],
   "source": []
  }
 ],
 "metadata": {
  "interpreter": {
   "hash": "0523ecfdfd03da9535a2cd394fa2b2a2368df119d71b1e2a5e4a2b8711053260"
  },
  "kernelspec": {
   "display_name": "Python 3.7.8 64-bit ('venvP4': venv)",
   "name": "python3"
  },
  "language_info": {
   "codemirror_mode": {
    "name": "ipython",
    "version": 3
   },
   "file_extension": ".py",
   "mimetype": "text/x-python",
   "name": "python",
   "nbconvert_exporter": "python",
   "pygments_lexer": "ipython3",
   "version": "3.7.8"
  },
  "orig_nbformat": 4
 },
 "nbformat": 4,
 "nbformat_minor": 2
}
